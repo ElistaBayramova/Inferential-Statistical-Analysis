{
 "cells": [
  {
   "cell_type": "markdown",
   "id": "932f9b2a",
   "metadata": {},
   "source": [
    "## Research Question:\n",
    "Has the mean price of rent for 2022 in Barcelona, Spain increased compared to the mean price for 2021?\n",
    "\n",
    "## Solution:\n",
    "Hypothesis testing <br>\n",
    "<font color=blue>Null hypothesis</font> : Rent price has not increased in 2022 <br>\n",
    "<font color=blue>Alternative hypothesis</font>  : Rent price has increased"
   ]
  },
  {
   "cell_type": "code",
   "execution_count": 1,
   "id": "8e208180",
   "metadata": {},
   "outputs": [],
   "source": [
    "import numpy as np\n",
    "import pandas as pd\n",
    "import matplotlib.pyplot as plt\n",
    "import seaborn as sns\n",
    "from scipy import stats\n",
    "import statsmodels.api as sm"
   ]
  },
  {
   "cell_type": "code",
   "execution_count": 33,
   "id": "d27525cd",
   "metadata": {},
   "outputs": [],
   "source": [
    "from scipy.stats import shapiro \n",
    "from statsmodels.stats.descriptivestats import sign_test"
   ]
  },
  {
   "cell_type": "code",
   "execution_count": 20,
   "id": "dcdd4815",
   "metadata": {},
   "outputs": [],
   "source": [
    "data = pd.read_csv('Barcelona_rent_price.csv')"
   ]
  },
  {
   "cell_type": "code",
   "execution_count": 8,
   "id": "115d3b6b",
   "metadata": {},
   "outputs": [
    {
     "data": {
      "text/html": [
       "<div>\n",
       "<style scoped>\n",
       "    .dataframe tbody tr th:only-of-type {\n",
       "        vertical-align: middle;\n",
       "    }\n",
       "\n",
       "    .dataframe tbody tr th {\n",
       "        vertical-align: top;\n",
       "    }\n",
       "\n",
       "    .dataframe thead th {\n",
       "        text-align: right;\n",
       "    }\n",
       "</style>\n",
       "<table border=\"1\" class=\"dataframe\">\n",
       "  <thead>\n",
       "    <tr style=\"text-align: right;\">\n",
       "      <th></th>\n",
       "      <th>Year</th>\n",
       "      <th>Trimester</th>\n",
       "      <th>District</th>\n",
       "      <th>Neighbourhood</th>\n",
       "      <th>Average _rent</th>\n",
       "      <th>Price</th>\n",
       "    </tr>\n",
       "  </thead>\n",
       "  <tbody>\n",
       "    <tr>\n",
       "      <th>0</th>\n",
       "      <td>2014</td>\n",
       "      <td>1</td>\n",
       "      <td>Ciutat Vella</td>\n",
       "      <td>el Raval</td>\n",
       "      <td>average rent (euro/month)</td>\n",
       "      <td>589.55</td>\n",
       "    </tr>\n",
       "    <tr>\n",
       "      <th>1</th>\n",
       "      <td>2014</td>\n",
       "      <td>1</td>\n",
       "      <td>Ciutat Vella</td>\n",
       "      <td>Gothic Quarter</td>\n",
       "      <td>average rent (euro/month)</td>\n",
       "      <td>712.79</td>\n",
       "    </tr>\n",
       "    <tr>\n",
       "      <th>2</th>\n",
       "      <td>2014</td>\n",
       "      <td>1</td>\n",
       "      <td>Ciutat Vella</td>\n",
       "      <td>la Barceloneta</td>\n",
       "      <td>average rent (euro/month)</td>\n",
       "      <td>540.71</td>\n",
       "    </tr>\n",
       "    <tr>\n",
       "      <th>3</th>\n",
       "      <td>2014</td>\n",
       "      <td>1</td>\n",
       "      <td>Ciutat Vella</td>\n",
       "      <td>Sant Pere, Santa Caterina i la Ribera</td>\n",
       "      <td>average rent (euro/month)</td>\n",
       "      <td>673.44</td>\n",
       "    </tr>\n",
       "    <tr>\n",
       "      <th>4</th>\n",
       "      <td>2014</td>\n",
       "      <td>1</td>\n",
       "      <td>Eixample</td>\n",
       "      <td>Fort Pienc</td>\n",
       "      <td>average rent (euro/month)</td>\n",
       "      <td>736.09</td>\n",
       "    </tr>\n",
       "  </tbody>\n",
       "</table>\n",
       "</div>"
      ],
      "text/plain": [
       "   Year  Trimester      District                          Neighbourhood  \\\n",
       "0  2014          1  Ciutat Vella                               el Raval   \n",
       "1  2014          1  Ciutat Vella                         Gothic Quarter   \n",
       "2  2014          1  Ciutat Vella                         la Barceloneta   \n",
       "3  2014          1  Ciutat Vella  Sant Pere, Santa Caterina i la Ribera   \n",
       "4  2014          1      Eixample                             Fort Pienc   \n",
       "\n",
       "               Average _rent   Price  \n",
       "0  average rent (euro/month)  589.55  \n",
       "1  average rent (euro/month)  712.79  \n",
       "2  average rent (euro/month)  540.71  \n",
       "3  average rent (euro/month)  673.44  \n",
       "4  average rent (euro/month)  736.09  "
      ]
     },
     "execution_count": 8,
     "metadata": {},
     "output_type": "execute_result"
    }
   ],
   "source": [
    "data.head()"
   ]
  },
  {
   "cell_type": "code",
   "execution_count": 21,
   "id": "a9cc9ed7",
   "metadata": {},
   "outputs": [],
   "source": [
    "data.columns=data.columns.str.lower()"
   ]
  },
  {
   "cell_type": "code",
   "execution_count": 22,
   "id": "2f4fc681",
   "metadata": {},
   "outputs": [],
   "source": [
    "# create 2021 and 2022 rent price data\n",
    "data_2021 = data[data['year']==2021]\n",
    "data_2022 = data[data['year']==2022]"
   ]
  },
  {
   "cell_type": "code",
   "execution_count": 23,
   "id": "65633f5a",
   "metadata": {},
   "outputs": [],
   "source": [
    "# create random sample for 2022 rent price\n",
    "sample_data_2022 =data_2022.sample(n=40)"
   ]
  },
  {
   "cell_type": "markdown",
   "id": "25da0888",
   "metadata": {},
   "source": [
    "## 1. Examine Data"
   ]
  },
  {
   "cell_type": "code",
   "execution_count": 61,
   "id": "48893c06",
   "metadata": {},
   "outputs": [
    {
     "name": "stderr",
     "output_type": "stream",
     "text": [
      "C:\\Users\\user\\anaconda3\\lib\\site-packages\\seaborn\\distributions.py:2619: FutureWarning: `distplot` is a deprecated function and will be removed in a future version. Please adapt your code to use either `displot` (a figure-level function with similar flexibility) or `histplot` (an axes-level function for histograms).\n",
      "  warnings.warn(msg, FutureWarning)\n"
     ]
    },
    {
     "data": {
      "image/png": "[encoded data removed]",
      "text/plain": [
       "<Figure size 720x288 with 2 Axes>"
      ]
     },
     "metadata": {
      "needs_background": "light"
     },
     "output_type": "display_data"
    }
   ],
   "source": [
    "fig, ax = plt.subplots(ncols=2, figsize=(10,4))\n",
    "\n",
    "sns.distplot(data_2021['price'], ax=ax[0])\n",
    "\n",
    "stats.probplot(data_2021['price'], dist=\"norm\", plot=plt)\n",
    "plt.show()"
   ]
  },
  {
   "cell_type": "code",
   "execution_count": 62,
   "id": "425b34fc",
   "metadata": {},
   "outputs": [
    {
     "data": {
      "text/plain": [
       "ShapiroResult(statistic=0.7976830005645752, pvalue=2.1478261632265254e-25)"
      ]
     },
     "execution_count": 62,
     "metadata": {},
     "output_type": "execute_result"
    }
   ],
   "source": [
    "shapiro(data_2021['price'])"
   ]
  },
  {
   "cell_type": "code",
   "execution_count": 13,
   "id": "1b8569e6",
   "metadata": {},
   "outputs": [
    {
     "name": "stdout",
     "output_type": "stream",
     "text": [
      "Population mean(hypothesis mean) :  442.15722222222234\n",
      "Populatin standard deviation:  456.93506833035025\n",
      "Population size:  540\n"
     ]
    }
   ],
   "source": [
    "price_mean_2021 =data_2021['price'].mean()\n",
    "price_std_2021=np.std(data_2021['price'])\n",
    "price_size_2021=np.size(data_2021['price'])\n",
    "\n",
    "print('Population mean(hypothesis mean) : ',price_mean_2021)\n",
    "print('Populatin standard deviation: ', price_std_2021)\n",
    "print('Population size: ',price_size_2021 )"
   ]
  },
  {
   "cell_type": "code",
   "execution_count": 24,
   "id": "af7b7ea8",
   "metadata": {
    "scrolled": true
   },
   "outputs": [
    {
     "name": "stdout",
     "output_type": "stream",
     "text": [
      "Population mean(hypothesis mean) :  523.5925\n",
      "Populatin standard deviation:  571.5330105897209\n",
      "Population size:  40\n"
     ]
    }
   ],
   "source": [
    "observed_mean_2022 =sample_data_2022['price'].mean()\n",
    "observed_std_2022=np.std(sample_data_2022['price'])\n",
    "sample_size_2022=np.size(sample_data_2022['price'])\n",
    "\n",
    "print('Population mean(hypothesis mean) : ',observed_mean_2022)\n",
    "print('Populatin standard deviation: ', observed_std_2022)\n",
    "print('Population size: ',sample_size_2022)"
   ]
  },
  {
   "cell_type": "markdown",
   "id": "a58e4e5f",
   "metadata": {},
   "source": [
    "## 2.Test statistic"
   ]
  },
  {
   "cell_type": "markdown",
   "id": "618bd582",
   "metadata": {},
   "source": [
    "The sample is from a non-normal population. Because the sample size is large enough (>30) CLT alows us use student's t-test <br>\n",
    "\n",
    "<font color=blue>Null hypothesis</font> : Rent price has not increased in 2022 (µ =442)<br>\n",
    "<font color=blue>Alternative hypothesis</font>  : Rent price has increased (µ >442)\n",
    "\n",
    "α=0.05 (5% risk of commiting Type I error )"
   ]
  },
  {
   "cell_type": "markdown",
   "id": "57ea5960",
   "metadata": {},
   "source": [
    "### Student's one-sided t-test"
   ]
  },
  {
   "cell_type": "markdown",
   "id": "ad031ea2",
   "metadata": {},
   "source": [
    "#### p-value approach"
   ]
  },
  {
   "cell_type": "code",
   "execution_count": 38,
   "id": "c0816d6a",
   "metadata": {},
   "outputs": [
    {
     "data": {
      "text/plain": [
       "Ttest_1sampResult(statistic=0.8898228751415281, pvalue=0.1895086177664443)"
      ]
     },
     "execution_count": 38,
     "metadata": {},
     "output_type": "execute_result"
    }
   ],
   "source": [
    "stats.ttest_1samp(sample_data_2022['price'],price_mean_2021, alternative='greater')"
   ]
  },
  {
   "cell_type": "markdown",
   "id": "a565cdb7",
   "metadata": {},
   "source": [
    "#### The critical value approach"
   ]
  },
  {
   "cell_type": "code",
   "execution_count": 52,
   "id": "e0ef1996",
   "metadata": {},
   "outputs": [
    {
     "data": {
      "text/plain": [
       "-2.0226909117347285"
      ]
     },
     "execution_count": 52,
     "metadata": {},
     "output_type": "execute_result"
    }
   ],
   "source": [
    "# define t critical value\n",
    "stats.t.ppf(q=0.025,df=39)"
   ]
  },
  {
   "cell_type": "code",
   "execution_count": 54,
   "id": "0c650d20",
   "metadata": {},
   "outputs": [
    {
     "name": "stdout",
     "output_type": "stream",
     "text": [
      "0.9011586553873996\n"
     ]
    }
   ],
   "source": [
    "t_stat = (observed_mean_2022 -price_mean_2021)/(observed_std_2022/np.sqrt(sample_size_2022))\n",
    "print(t_stat)"
   ]
  },
  {
   "cell_type": "markdown",
   "id": "1561dd59",
   "metadata": {},
   "source": [
    "Because p-value is greater than 0.05 ,or t-statistic is less than t-critical value we do not reject the null hypothesis"
   ]
  },
  {
   "cell_type": "markdown",
   "id": "d52652bc",
   "metadata": {},
   "source": [
    "## Conclusion\n",
    "\n",
    "Based on the observed sample mean there is no evidence that the price of rent for 2022 in Barcelona, Spain has increased from its value for 2021."
   ]
  },
  {
   "cell_type": "markdown",
   "id": "f305bad3",
   "metadata": {},
   "source": [
    "### Construct 95% confidence interval for average price of rent in 2022"
   ]
  },
  {
   "cell_type": "code",
   "execution_count": 60,
   "id": "7d676668",
   "metadata": {},
   "outputs": [
    {
     "name": "stdout",
     "output_type": "stream",
     "text": [
      "(342.85789285633473, 704.3271071436652)\n"
     ]
    }
   ],
   "source": [
    "lower_limit = observed_mean_2022 - 2 * (observed_std_2022/np.sqrt(sample_size_2022))\n",
    "upper_limit = observed_mean_2022 + 2 * (observed_std_2022/np.sqrt(sample_size_2022))\n",
    "print((lower_limit, upper_limit))\n"
   ]
  },
  {
   "cell_type": "markdown",
   "id": "559431ee",
   "metadata": {},
   "source": [
    "The same decision is obtained. Because the hypothesis value falls in the interval, there is insufficient evidence that the rent price has increased in 2022 "
   ]
  },
  {
   "cell_type": "code",
   "execution_count": null,
   "id": "6c9de7a6",
   "metadata": {},
   "outputs": [],
   "source": []
  }
 ],
 "metadata": {
  "kernelspec": {
   "display_name": "Python 3 (ipykernel)",
   "language": "python",
   "name": "python3"
  },
  "language_info": {
   "codemirror_mode": {
    "name": "ipython",
    "version": 3
   },
   "file_extension": ".py",
   "mimetype": "text/x-python",
   "name": "python",
   "nbconvert_exporter": "python",
   "pygments_lexer": "ipython3",
   "version": "3.9.12"
  }
 },
 "nbformat": 4,
 "nbformat_minor": 5
}
