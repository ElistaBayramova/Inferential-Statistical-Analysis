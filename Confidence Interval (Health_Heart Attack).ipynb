{
 "cells": [
  {
   "cell_type": "markdown",
   "id": "2c26fda3",
   "metadata": {},
   "source": [
    "## Research Question:\n",
    "\n",
    "1. What is the average resting blood pressure and serum cholesterol (in mg/dl) for patients who have had heart attacks?\n",
    "2. what is the difference in average resting blood pressure and serum cholesterol (in mg/dl) between patients who have not had heart attack and patients who have had attack?\n",
    "\n",
    "## Solution:\n",
    "For the first question, I will construct a 95% confidence interval for the average resting blood pressure and serum cholesterol (in mg/dl) for patients. Then for the second question, I will estimate the difference in the mean resting blood pressure and serum cholesterol (in mg/dl) between patients who have not had a heart attack and patients who have had an attack with a 95% confidence interval"
   ]
  },
  {
   "cell_type": "code",
   "execution_count": 1,
   "id": "52351511",
   "metadata": {},
   "outputs": [],
   "source": [
    "import numpy as np\n",
    "import pandas as pd\n",
    "import seaborn as sns\n",
    "import matplotlib.pyplot as plt\n",
    "import statsmodels.stats.api as sm\n",
    "from scipy.stats import shapiro\n",
    "from scipy import stats"
   ]
  },
  {
   "cell_type": "code",
   "execution_count": 3,
   "id": "9d2c7e66",
   "metadata": {},
   "outputs": [],
   "source": [
    "df = pd.read_csv('heart.csv')"
   ]
  },
  {
   "cell_type": "code",
   "execution_count": 35,
   "id": "3c2ae3bd",
   "metadata": {},
   "outputs": [
    {
     "data": {
      "text/html": [
       "<div>\n",
       "<style scoped>\n",
       "    .dataframe tbody tr th:only-of-type {\n",
       "        vertical-align: middle;\n",
       "    }\n",
       "\n",
       "    .dataframe tbody tr th {\n",
       "        vertical-align: top;\n",
       "    }\n",
       "\n",
       "    .dataframe thead th {\n",
       "        text-align: right;\n",
       "    }\n",
       "</style>\n",
       "<table border=\"1\" class=\"dataframe\">\n",
       "  <thead>\n",
       "    <tr style=\"text-align: right;\">\n",
       "      <th></th>\n",
       "      <th>age</th>\n",
       "      <th>sex</th>\n",
       "      <th>cp</th>\n",
       "      <th>trestbps</th>\n",
       "      <th>chol</th>\n",
       "      <th>fbs</th>\n",
       "      <th>restecg</th>\n",
       "      <th>thalach</th>\n",
       "      <th>exang</th>\n",
       "      <th>oldpeak</th>\n",
       "      <th>slope</th>\n",
       "      <th>ca</th>\n",
       "      <th>thal</th>\n",
       "      <th>target</th>\n",
       "    </tr>\n",
       "  </thead>\n",
       "  <tbody>\n",
       "    <tr>\n",
       "      <th>298</th>\n",
       "      <td>57</td>\n",
       "      <td>0</td>\n",
       "      <td>0</td>\n",
       "      <td>140</td>\n",
       "      <td>241</td>\n",
       "      <td>0</td>\n",
       "      <td>1</td>\n",
       "      <td>123</td>\n",
       "      <td>1</td>\n",
       "      <td>0.2</td>\n",
       "      <td>1</td>\n",
       "      <td>0</td>\n",
       "      <td>3</td>\n",
       "      <td>0</td>\n",
       "    </tr>\n",
       "    <tr>\n",
       "      <th>299</th>\n",
       "      <td>45</td>\n",
       "      <td>1</td>\n",
       "      <td>3</td>\n",
       "      <td>110</td>\n",
       "      <td>264</td>\n",
       "      <td>0</td>\n",
       "      <td>1</td>\n",
       "      <td>132</td>\n",
       "      <td>0</td>\n",
       "      <td>1.2</td>\n",
       "      <td>1</td>\n",
       "      <td>0</td>\n",
       "      <td>3</td>\n",
       "      <td>0</td>\n",
       "    </tr>\n",
       "    <tr>\n",
       "      <th>300</th>\n",
       "      <td>68</td>\n",
       "      <td>1</td>\n",
       "      <td>0</td>\n",
       "      <td>144</td>\n",
       "      <td>193</td>\n",
       "      <td>1</td>\n",
       "      <td>1</td>\n",
       "      <td>141</td>\n",
       "      <td>0</td>\n",
       "      <td>3.4</td>\n",
       "      <td>1</td>\n",
       "      <td>2</td>\n",
       "      <td>3</td>\n",
       "      <td>0</td>\n",
       "    </tr>\n",
       "    <tr>\n",
       "      <th>301</th>\n",
       "      <td>57</td>\n",
       "      <td>1</td>\n",
       "      <td>0</td>\n",
       "      <td>130</td>\n",
       "      <td>131</td>\n",
       "      <td>0</td>\n",
       "      <td>1</td>\n",
       "      <td>115</td>\n",
       "      <td>1</td>\n",
       "      <td>1.2</td>\n",
       "      <td>1</td>\n",
       "      <td>1</td>\n",
       "      <td>3</td>\n",
       "      <td>0</td>\n",
       "    </tr>\n",
       "    <tr>\n",
       "      <th>302</th>\n",
       "      <td>57</td>\n",
       "      <td>0</td>\n",
       "      <td>1</td>\n",
       "      <td>130</td>\n",
       "      <td>236</td>\n",
       "      <td>0</td>\n",
       "      <td>0</td>\n",
       "      <td>174</td>\n",
       "      <td>0</td>\n",
       "      <td>0.0</td>\n",
       "      <td>1</td>\n",
       "      <td>1</td>\n",
       "      <td>2</td>\n",
       "      <td>0</td>\n",
       "    </tr>\n",
       "  </tbody>\n",
       "</table>\n",
       "</div>"
      ],
      "text/plain": [
       "     age  sex  cp  trestbps  chol  fbs  restecg  thalach  exang  oldpeak  \\\n",
       "298   57    0   0       140   241    0        1      123      1      0.2   \n",
       "299   45    1   3       110   264    0        1      132      0      1.2   \n",
       "300   68    1   0       144   193    1        1      141      0      3.4   \n",
       "301   57    1   0       130   131    0        1      115      1      1.2   \n",
       "302   57    0   1       130   236    0        0      174      0      0.0   \n",
       "\n",
       "     slope  ca  thal  target  \n",
       "298      1   0     3       0  \n",
       "299      1   0     3       0  \n",
       "300      1   2     3       0  \n",
       "301      1   1     3       0  \n",
       "302      1   1     2       0  "
      ]
     },
     "execution_count": 35,
     "metadata": {},
     "output_type": "execute_result"
    }
   ],
   "source": [
    "df.tail()"
   ]
  },
  {
   "cell_type": "code",
   "execution_count": 37,
   "id": "8b7f8a16",
   "metadata": {},
   "outputs": [
    {
     "data": {
      "text/html": [
       "<div>\n",
       "<style scoped>\n",
       "    .dataframe tbody tr th:only-of-type {\n",
       "        vertical-align: middle;\n",
       "    }\n",
       "\n",
       "    .dataframe tbody tr th {\n",
       "        vertical-align: top;\n",
       "    }\n",
       "\n",
       "    .dataframe thead th {\n",
       "        text-align: right;\n",
       "    }\n",
       "</style>\n",
       "<table border=\"1\" class=\"dataframe\">\n",
       "  <thead>\n",
       "    <tr style=\"text-align: right;\">\n",
       "      <th></th>\n",
       "      <th>age</th>\n",
       "      <th>sex</th>\n",
       "      <th>cp</th>\n",
       "      <th>trestbps</th>\n",
       "      <th>chol</th>\n",
       "      <th>fbs</th>\n",
       "      <th>restecg</th>\n",
       "      <th>thalach</th>\n",
       "      <th>exang</th>\n",
       "      <th>oldpeak</th>\n",
       "      <th>slope</th>\n",
       "      <th>ca</th>\n",
       "      <th>thal</th>\n",
       "      <th>target</th>\n",
       "    </tr>\n",
       "  </thead>\n",
       "  <tbody>\n",
       "    <tr>\n",
       "      <th>0</th>\n",
       "      <td>63</td>\n",
       "      <td>1</td>\n",
       "      <td>3</td>\n",
       "      <td>145</td>\n",
       "      <td>233</td>\n",
       "      <td>1</td>\n",
       "      <td>0</td>\n",
       "      <td>150</td>\n",
       "      <td>0</td>\n",
       "      <td>2.3</td>\n",
       "      <td>0</td>\n",
       "      <td>0</td>\n",
       "      <td>1</td>\n",
       "      <td>1</td>\n",
       "    </tr>\n",
       "    <tr>\n",
       "      <th>1</th>\n",
       "      <td>37</td>\n",
       "      <td>1</td>\n",
       "      <td>2</td>\n",
       "      <td>130</td>\n",
       "      <td>250</td>\n",
       "      <td>0</td>\n",
       "      <td>1</td>\n",
       "      <td>187</td>\n",
       "      <td>0</td>\n",
       "      <td>3.5</td>\n",
       "      <td>0</td>\n",
       "      <td>0</td>\n",
       "      <td>2</td>\n",
       "      <td>1</td>\n",
       "    </tr>\n",
       "    <tr>\n",
       "      <th>2</th>\n",
       "      <td>41</td>\n",
       "      <td>0</td>\n",
       "      <td>1</td>\n",
       "      <td>130</td>\n",
       "      <td>204</td>\n",
       "      <td>0</td>\n",
       "      <td>0</td>\n",
       "      <td>172</td>\n",
       "      <td>0</td>\n",
       "      <td>1.4</td>\n",
       "      <td>2</td>\n",
       "      <td>0</td>\n",
       "      <td>2</td>\n",
       "      <td>1</td>\n",
       "    </tr>\n",
       "    <tr>\n",
       "      <th>3</th>\n",
       "      <td>56</td>\n",
       "      <td>1</td>\n",
       "      <td>1</td>\n",
       "      <td>120</td>\n",
       "      <td>236</td>\n",
       "      <td>0</td>\n",
       "      <td>1</td>\n",
       "      <td>178</td>\n",
       "      <td>0</td>\n",
       "      <td>0.8</td>\n",
       "      <td>2</td>\n",
       "      <td>0</td>\n",
       "      <td>2</td>\n",
       "      <td>1</td>\n",
       "    </tr>\n",
       "    <tr>\n",
       "      <th>4</th>\n",
       "      <td>57</td>\n",
       "      <td>0</td>\n",
       "      <td>0</td>\n",
       "      <td>120</td>\n",
       "      <td>354</td>\n",
       "      <td>0</td>\n",
       "      <td>1</td>\n",
       "      <td>163</td>\n",
       "      <td>1</td>\n",
       "      <td>0.6</td>\n",
       "      <td>2</td>\n",
       "      <td>0</td>\n",
       "      <td>2</td>\n",
       "      <td>1</td>\n",
       "    </tr>\n",
       "  </tbody>\n",
       "</table>\n",
       "</div>"
      ],
      "text/plain": [
       "   age  sex  cp  trestbps  chol  fbs  restecg  thalach  exang  oldpeak  slope  \\\n",
       "0   63    1   3       145   233    1        0      150      0      2.3      0   \n",
       "1   37    1   2       130   250    0        1      187      0      3.5      0   \n",
       "2   41    0   1       130   204    0        0      172      0      1.4      2   \n",
       "3   56    1   1       120   236    0        1      178      0      0.8      2   \n",
       "4   57    0   0       120   354    0        1      163      1      0.6      2   \n",
       "\n",
       "   ca  thal  target  \n",
       "0   0     1       1  \n",
       "1   0     2       1  \n",
       "2   0     2       1  \n",
       "3   0     2       1  \n",
       "4   0     2       1  "
      ]
     },
     "execution_count": 37,
     "metadata": {},
     "output_type": "execute_result"
    }
   ],
   "source": [
    "df.head()"
   ]
  },
  {
   "cell_type": "markdown",
   "id": "6c2c40d4",
   "metadata": {},
   "source": [
    "## Question 1 "
   ]
  },
  {
   "cell_type": "markdown",
   "id": "92e913ee",
   "metadata": {},
   "source": [
    "Firstly, I create data that includes patients who have had a heart attack"
   ]
  },
  {
   "cell_type": "code",
   "execution_count": 4,
   "id": "696ff290",
   "metadata": {},
   "outputs": [],
   "source": [
    "data=df[df['target']==1]"
   ]
  },
  {
   "cell_type": "code",
   "execution_count": 5,
   "id": "dd57b014",
   "metadata": {},
   "outputs": [
    {
     "data": {
      "text/plain": [
       "age         0\n",
       "sex         0\n",
       "cp          0\n",
       "trestbps    0\n",
       "chol        0\n",
       "fbs         0\n",
       "restecg     0\n",
       "thalach     0\n",
       "exang       0\n",
       "oldpeak     0\n",
       "slope       0\n",
       "ca          0\n",
       "thal        0\n",
       "target      0\n",
       "dtype: int64"
      ]
     },
     "execution_count": 5,
     "metadata": {},
     "output_type": "execute_result"
    }
   ],
   "source": [
    "data.isna().sum()"
   ]
  },
  {
   "cell_type": "code",
   "execution_count": 20,
   "id": "d942c923",
   "metadata": {},
   "outputs": [
    {
     "data": {
      "text/plain": [
       "165"
      ]
     },
     "execution_count": 20,
     "metadata": {},
     "output_type": "execute_result"
    }
   ],
   "source": [
    "len(data)"
   ]
  },
  {
   "cell_type": "markdown",
   "id": "6f8916c9",
   "metadata": {},
   "source": [
    "I will check the normality of distribution (but even if there is no normal distribution large sample size allows us to apply the Central Limit Theorem and assume that the population has a normal distribution)"
   ]
  },
  {
   "cell_type": "code",
   "execution_count": 8,
   "id": "2ad89681",
   "metadata": {},
   "outputs": [
    {
     "name": "stderr",
     "output_type": "stream",
     "text": [
      "C:\\Users\\user\\anaconda3\\lib\\site-packages\\seaborn\\distributions.py:2619: FutureWarning: `distplot` is a deprecated function and will be removed in a future version. Please adapt your code to use either `displot` (a figure-level function with similar flexibility) or `histplot` (an axes-level function for histograms).\n",
      "  warnings.warn(msg, FutureWarning)\n"
     ]
    },
    {
     "data": {
      "image/png": "[encoded data removed]",
      "text/plain": [
       "<Figure size 720x288 with 2 Axes>"
      ]
     },
     "metadata": {
      "needs_background": "light"
     },
     "output_type": "display_data"
    }
   ],
   "source": [
    "fig, ax = plt.subplots(ncols=2, figsize=(10,4))\n",
    "\n",
    "sns.distplot(data['trestbps'], ax=ax[0])\n",
    "\n",
    "stats.probplot(data['trestbps'], dist=\"norm\", plot=plt)\n",
    "plt.show()"
   ]
  },
  {
   "cell_type": "code",
   "execution_count": 10,
   "id": "565b00c4",
   "metadata": {},
   "outputs": [
    {
     "name": "stdout",
     "output_type": "stream",
     "text": [
      "Shapiro-Wilk test result:\n"
     ]
    },
    {
     "data": {
      "text/plain": [
       "ShapiroResult(statistic=0.9786458015441895, pvalue=0.01190413162112236)"
      ]
     },
     "execution_count": 10,
     "metadata": {},
     "output_type": "execute_result"
    }
   ],
   "source": [
    "print('Shapiro-Wilk test result:')\n",
    "shapiro(data['trestbps'])"
   ]
  },
  {
   "cell_type": "code",
   "execution_count": 11,
   "id": "e095895d",
   "metadata": {},
   "outputs": [
    {
     "name": "stderr",
     "output_type": "stream",
     "text": [
      "C:\\Users\\user\\anaconda3\\lib\\site-packages\\seaborn\\distributions.py:2619: FutureWarning: `distplot` is a deprecated function and will be removed in a future version. Please adapt your code to use either `displot` (a figure-level function with similar flexibility) or `histplot` (an axes-level function for histograms).\n",
      "  warnings.warn(msg, FutureWarning)\n"
     ]
    },
    {
     "data": {
      "image/png": "[encoded data removed]",
      "text/plain": [
       "<Figure size 720x288 with 2 Axes>"
      ]
     },
     "metadata": {
      "needs_background": "light"
     },
     "output_type": "display_data"
    }
   ],
   "source": [
    "fig, ax = plt.subplots(ncols=2, figsize=(10,4))\n",
    "\n",
    "sns.distplot(data['chol'], ax=ax[0])\n",
    "\n",
    "stats.probplot(data['chol'], dist=\"norm\", plot=plt)\n",
    "plt.show()"
   ]
  },
  {
   "cell_type": "code",
   "execution_count": 12,
   "id": "e013202a",
   "metadata": {},
   "outputs": [
    {
     "name": "stdout",
     "output_type": "stream",
     "text": [
      "Shapiro-Wilk test result:\n"
     ]
    },
    {
     "data": {
      "text/plain": [
       "ShapiroResult(statistic=0.8984674215316772, pvalue=3.0788867011466436e-09)"
      ]
     },
     "execution_count": 12,
     "metadata": {},
     "output_type": "execute_result"
    }
   ],
   "source": [
    "print('Shapiro-Wilk test result:')\n",
    "shapiro(data['chol'])"
   ]
  },
  {
   "cell_type": "markdown",
   "id": "f71f94a7",
   "metadata": {},
   "source": [
    "So, apply CLT and continue"
   ]
  },
  {
   "attachments": {
    "image.png": {
     "image/png": "[encoded data removed]"
    }
   },
   "cell_type": "markdown",
   "id": "5222e588",
   "metadata": {},
   "source": [
    "## Approach\n",
    "\n",
    "Because I can use estimated standard error, I will apply student's two-sided t-distribution with 95% confidence level\n",
    "\n",
    "![image.png](attachment:image.png)\n",
    "\n"
   ]
  },
  {
   "cell_type": "code",
   "execution_count": 14,
   "id": "9ede8a9d",
   "metadata": {},
   "outputs": [
    {
     "name": "stdout",
     "output_type": "stream",
     "text": [
      "(126.81748087618438, 131.78857972987626)\n"
     ]
    }
   ],
   "source": [
    "CI_rbp =sm.DescrStatsW(data['trestbps']).tconfint_mean(alpha=0.05, alternative='two-sided')\n",
    "print(CI_rbp)"
   ]
  },
  {
   "cell_type": "code",
   "execution_count": 15,
   "id": "d26a6726",
   "metadata": {},
   "outputs": [
    {
     "name": "stdout",
     "output_type": "stream",
     "text": [
      "(233.9982997658203, 250.46230629478575)\n"
     ]
    }
   ],
   "source": [
    "CI_chol =sm.DescrStatsW(data['chol']).tconfint_mean(alpha=0.05, alternative='two-sided')\n",
    "print(CI_chol)"
   ]
  },
  {
   "attachments": {
    "image.png": {
     "image/png": "[encoded data removed]"
    }
   },
   "cell_type": "markdown",
   "id": "fa82a984",
   "metadata": {},
   "source": [
    "## Alternative solution with formula:\n",
    "\n",
    "![image.png](attachment:image.png)\n",
    " \n",
    "$$ \\bar {x} - best \\ estimate \\ (mean \\ of \\ sample)$$\n",
    "$$tα/2* \\frac {S} {\\sqrt n}  - margin\\ of \\ error$$\n",
    "$$(1-α ) * 100 – level \\ of \\ confidence$$\n",
    "$$S - standard \\ deviation \\ of \\ sample $$\n",
    "$$n -sample \\ size $$\n",
    "$$\\frac {S} {\\sqrt n}  - estimated \\ standard \\ error \\ of \\ sample \\ mean$$"
   ]
  },
  {
   "cell_type": "code",
   "execution_count": 7,
   "id": "a3be073e",
   "metadata": {},
   "outputs": [
    {
     "data": {
      "text/plain": [
       "-1.9745345758522659"
      ]
     },
     "execution_count": 7,
     "metadata": {},
     "output_type": "execute_result"
    }
   ],
   "source": [
    "# find t critical value\n",
    "stats.t.ppf(q=0.025,df=len(data['trestbps'])-1)"
   ]
  },
  {
   "cell_type": "code",
   "execution_count": 8,
   "id": "003fba18",
   "metadata": {},
   "outputs": [
    {
     "name": "stdout",
     "output_type": "stream",
     "text": [
      "(126.83071510352106, 131.77534550253955)\n"
     ]
    }
   ],
   "source": [
    "best_estimate_rbp = data['trestbps'].mean()\n",
    "s_rbp = np.std(data['trestbps'])\n",
    "n_rbp = len(data['trestbps'])\n",
    "\n",
    "lower_limit = best_estimate_rbp - 1.97 * (s_rbp / np.sqrt(n_rbp))\n",
    "upper_limit = best_estimate_rbp + 1.97 * (s_rbp / np.sqrt(n_rbp))\n",
    "\n",
    "CI_rbp_ = (lower_limit, upper_limit)\n",
    "print(CI_rbp_)"
   ]
  },
  {
   "cell_type": "code",
   "execution_count": 9,
   "id": "8afafb1d",
   "metadata": {},
   "outputs": [
    {
     "name": "stdout",
     "output_type": "stream",
     "text": [
      "(234.0421308003038, 250.41847526030224)\n"
     ]
    }
   ],
   "source": [
    "best_estimate_chol = data['chol'].mean()\n",
    "s_chol = np.std(data['chol'])\n",
    "n_chol = len(data['chol'])\n",
    "\n",
    "lower_limit = best_estimate_chol - 1.97 * (s_chol / np.sqrt(n_chol))\n",
    "upper_limit = best_estimate_chol + 1.97 * (s_chol / np.sqrt(n_chol))\n",
    "\n",
    "CI_chol_ = (lower_limit, upper_limit)\n",
    "print(CI_chol_)"
   ]
  },
  {
   "cell_type": "markdown",
   "id": "3b42f74f",
   "metadata": {},
   "source": [
    "## Conclusion\n",
    "\n",
    "1. With 95% confidence, average resting blood pressure for patients who have had heart attacks is estimated between 127 and 132 \n",
    "2. With 95% confidence. average serum cholesterol (in mg/dl) for patients who have had heart attacks is estimated between 234 and 250 "
   ]
  },
  {
   "cell_type": "markdown",
   "id": "76c44975",
   "metadata": {},
   "source": [
    "# Question 2"
   ]
  },
  {
   "cell_type": "code",
   "execution_count": 18,
   "id": "8937256a",
   "metadata": {},
   "outputs": [],
   "source": [
    "# create data that includes patients who have had a heart attack\n",
    "data2 = df[df['target'] ==0]"
   ]
  },
  {
   "cell_type": "code",
   "execution_count": 21,
   "id": "e43175d1",
   "metadata": {},
   "outputs": [
    {
     "data": {
      "text/plain": [
       "138"
      ]
     },
     "execution_count": 21,
     "metadata": {},
     "output_type": "execute_result"
    }
   ],
   "source": [
    "len(data2)"
   ]
  },
  {
   "attachments": {
    "image-2.png": {
     "image/png": "[encoded data removed]"
    },
    "image-4.png": {
     "image/png": "[encoded data removed]"
    },
    "image-5.png": {
     "image/png": "[encoded data removed]"
    }
   },
   "cell_type": "markdown",
   "id": "76d5d645",
   "metadata": {},
   "source": [
    "# Approaches:\n",
    "\n",
    "### 1. Pooled Approach:\n",
    "The variance of the two populations are assumed to be equal\n",
    "\n",
    "![image-4.png](attachment:image-4.png)\n",
    "\n",
    "![image-2.png](attachment:image-2.png)\n",
    "\n",
    "### 2. Unpooled Approach:\n",
    "The variance of the two populations are not equal\n",
    "\n",
    "Welch's t interval is used \n",
    "\n",
    "![image-5.png](attachment:image-5.png)"
   ]
  },
  {
   "cell_type": "code",
   "execution_count": 30,
   "id": "81f4ed21",
   "metadata": {},
   "outputs": [
    {
     "name": "stdout",
     "output_type": "stream",
     "text": [
      "standard deviations for blood pressure\n",
      " (16.120539972317363, 18.66195845970553)\n",
      "standard deviations for cholesterol\n",
      " (53.39034349670409, 49.275104432402735)\n"
     ]
    }
   ],
   "source": [
    "# for patients who have had heart attack\n",
    "s1_bp = np.std(data['trestbps'])\n",
    "s1_chol = np.std(data['chol'])\n",
    "\n",
    "# for patients who have not had heart attack\n",
    "s2_bp = np.std(data2['trestbps'])\n",
    "s2_chol = np.std(data2['chol'])\n",
    "\n",
    "print('standard deviations for blood pressure\\n', (s1_bp, s2_bp ))\n",
    "print('standard deviations for cholesterol\\n', (s1_chol, s2_chol ))"
   ]
  },
  {
   "cell_type": "markdown",
   "id": "4f31e76b",
   "metadata": {},
   "source": [
    "Standard deviations are not equal. The unpooled approach should apply"
   ]
  },
  {
   "cell_type": "code",
   "execution_count": 42,
   "id": "757545af",
   "metadata": {},
   "outputs": [
    {
     "name": "stdout",
     "output_type": "stream",
     "text": [
      "confidence interval for difference in means for blood pressure:\n",
      " (-9.063572658494515, -1.1274681847202364)\n",
      "confidence interval for difference in means for serum cholesterol:\n",
      " (-20.430680881977985, 2.7173738991057714)\n"
     ]
    }
   ],
   "source": [
    "# patients who have had heart attack\n",
    "mean1_bp = data['trestbps'].mean()\n",
    "n1_bp = len(data['trestbps'])\n",
    "mean1_chol = data['chol'].mean()\n",
    "n1_chol = len(data['chol'])\n",
    "\n",
    "# patients who have not had heart attack\n",
    "mean2_bp = data2['trestbps'].mean()\n",
    "n2_bp = len(data2['trestbps'])\n",
    "mean2_chol = data2['chol'].mean()\n",
    "n2_chol = len(data2['chol'])\n",
    "\n",
    "# construct confidence interval for difference in means for blood pressure\n",
    "lower_limit_bp = (mean1_bp - mean2_bp) - 1.96 * (np.sqrt((s1_bp**2 /n1_bp) +(s2_bp**2/n2_bp)))\n",
    "upper_limit_bp = (mean1_bp - mean2_bp) + 1.96 * (np.sqrt((s1_bp**2 /n1_bp) +(s2_bp**2/n2_bp)))\n",
    "\n",
    "print('confidence interval for difference in means for blood pressure:\\n', (lower_limit_bp, upper_limit_bp))\n",
    "                                                \n",
    "# construct confidence interval for difference in means for serum cholesterol\n",
    "lower_limit_chol = (mean1_chol - mean2_chol) - 1.96 * (np.sqrt((s1_chol**2 /n1_chol) +(s2_chol**2/n2_chol)))\n",
    "upper_limit_chol = (mean1_chol - mean2_chol) + 1.96 * (np.sqrt((s1_chol**2 /n1_chol) +(s2_chol**2/n2_chol)))\n",
    "                                                       \n",
    "print('confidence interval for difference in means for serum cholesterol:\\n', (lower_limit_chol, upper_limit_chol))"
   ]
  },
  {
   "cell_type": "markdown",
   "id": "4498b3e1",
   "metadata": {},
   "source": [
    "## Conclusion\n",
    "\n",
    "1. With 95% confidence, difference in average resting blood pressure between patients who have not a had heart attack and patients who have had attack is estimated between 1 and 9\n",
    "2. With 95% confidence, difference in average serum cholesterol (in mg/dl) between patients who have not a had heart attack and patients who have had attack is estimated between 2 and 20\n",
    "3. It seems that the resting blood pressure and serum cholesterol of patients who have not had a heart attack are higher than those who have had a heart attack."
   ]
  }
 ],
 "metadata": {
  "kernelspec": {
   "display_name": "Python 3 (ipykernel)",
   "language": "python",
   "name": "python3"
  },
  "language_info": {
   "codemirror_mode": {
    "name": "ipython",
    "version": 3
   },
   "file_extension": ".py",
   "mimetype": "text/x-python",
   "name": "python",
   "nbconvert_exporter": "python",
   "pygments_lexer": "ipython3",
   "version": "3.9.12"
  }
 },
 "nbformat": 4,
 "nbformat_minor": 5
}
